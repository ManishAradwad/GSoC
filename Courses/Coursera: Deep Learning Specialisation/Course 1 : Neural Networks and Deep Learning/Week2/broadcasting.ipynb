{
  "nbformat": 4,
  "nbformat_minor": 0,
  "metadata": {
    "kernelspec": {
      "display_name": "Python 3",
      "language": "python",
      "name": "python3"
    },
    "language_info": {
      "codemirror_mode": {
        "name": "ipython",
        "version": 3
      },
      "file_extension": ".py",
      "mimetype": "text/x-python",
      "name": "python",
      "nbconvert_exporter": "python",
      "pygments_lexer": "ipython3",
      "version": "3.7.3"
    },
    "colab": {
      "name": "broadcasting.ipynb",
      "provenance": []
    }
  },
  "cells": [
    {
      "cell_type": "code",
      "metadata": {
        "id": "fozR95dECfFs",
        "colab_type": "code",
        "outputId": "3a5087a9-ae95-4fff-d19f-3ccd8c41f546",
        "colab": {
          "base_uri": "https://localhost:8080/",
          "height": 68
        }
      },
      "source": [
        "\"\"\" \n",
        "Notebook which demonstrates: \n",
        "1. Concept of Broadcasting\n",
        "2. Numpy vectors in detail\n",
        "\"\"\"\n",
        "\n",
        "# Broadcasting\n",
        "# Ex. A = np.dot(W.T, X) + b\n",
        "# b becomes a 1*m vector consisting of all values as b\n",
        "\n",
        "import numpy as np\n",
        "\n",
        "A = np.array([[56.0, 0.0, 4.4, 68.0],\n",
        "              [1.2, 104.0, 52.0, 8.0],\n",
        "              [1.8, 135.0, 99.0, 0.9]])\n",
        "\n",
        "A"
      ],
      "execution_count": 9,
      "outputs": [
        {
          "output_type": "execute_result",
          "data": {
            "text/plain": [
              "array([[ 56. ,   0. ,   4.4,  68. ],\n",
              "       [  1.2, 104. ,  52. ,   8. ],\n",
              "       [  1.8, 135. ,  99. ,   0.9]])"
            ]
          },
          "metadata": {
            "tags": []
          },
          "execution_count": 9
        }
      ]
    },
    {
      "cell_type": "code",
      "metadata": {
        "id": "AInV00x5DOzX",
        "colab_type": "code",
        "outputId": "f4ff2a0f-4716-4739-bb48-d4fc9e92432b",
        "colab": {
          "base_uri": "https://localhost:8080/",
          "height": 34
        }
      },
      "source": [
        "total_cal = A.sum(axis=0)\n",
        "print(total_cal.shape, total_cal)"
      ],
      "execution_count": 10,
      "outputs": [
        {
          "output_type": "stream",
          "text": [
            "(4,) [ 59.  239.  155.4  76.9]\n"
          ],
          "name": "stdout"
        }
      ]
    },
    {
      "cell_type": "code",
      "metadata": {
        "id": "vMVvAJvcY7um",
        "colab_type": "code",
        "outputId": "57ba6bbf-c806-472e-cfa9-4aa3c75bccdf",
        "colab": {
          "base_uri": "https://localhost:8080/",
          "height": 68
        }
      },
      "source": [
        "percentage_A = 100 * A/total_cal.reshape(1,4)\n",
        "percentage_A"
      ],
      "execution_count": 11,
      "outputs": [
        {
          "output_type": "execute_result",
          "data": {
            "text/plain": [
              "array([[94.91525424,  0.        ,  2.83140283, 88.42652796],\n",
              "       [ 2.03389831, 43.51464435, 33.46203346, 10.40312094],\n",
              "       [ 3.05084746, 56.48535565, 63.70656371,  1.17035111]])"
            ]
          },
          "metadata": {
            "tags": []
          },
          "execution_count": 11
        }
      ]
    },
    {
      "cell_type": "code",
      "metadata": {
        "id": "LUOEFlgdd0rg",
        "colab_type": "code",
        "colab": {
          "base_uri": "https://localhost:8080/",
          "height": 51
        },
        "outputId": "f7386337-b076-4902-d865-975c5172ef23"
      },
      "source": [
        "# Numpy Vectors\n",
        "a = np.random.randn(5) # This creates a rank one array, neither a row vector nor a column vector\n",
        "print(a, '\\n', a.shape)"
      ],
      "execution_count": 13,
      "outputs": [
        {
          "output_type": "stream",
          "text": [
            "[ 0.40011303  1.3872518   1.3683324   0.91436865 -0.81943912] \n",
            " (5,)\n"
          ],
          "name": "stdout"
        }
      ]
    },
    {
      "cell_type": "code",
      "metadata": {
        "id": "A2iEJm8Wd88K",
        "colab_type": "code",
        "colab": {
          "base_uri": "https://localhost:8080/",
          "height": 34
        },
        "outputId": "5287b88f-ecb6-445b-d9b7-9cfc1f50f32e"
      },
      "source": [
        "print(a.T.shape) # Transpose of a rank one array returns same array"
      ],
      "execution_count": 14,
      "outputs": [
        {
          "output_type": "stream",
          "text": [
            "(5,)\n"
          ],
          "name": "stdout"
        }
      ]
    },
    {
      "cell_type": "code",
      "metadata": {
        "id": "bgnvzcYxeNM7",
        "colab_type": "code",
        "colab": {
          "base_uri": "https://localhost:8080/",
          "height": 34
        },
        "outputId": "ba4ddf02-28ea-430d-ed75-735e4736e44e"
      },
      "source": [
        "print(np.dot(a, a.T)) # This doesn't give outer product"
      ],
      "execution_count": 17,
      "outputs": [
        {
          "output_type": "stream",
          "text": [
            "5.464442039864193\n"
          ],
          "name": "stdout"
        }
      ]
    },
    {
      "cell_type": "code",
      "metadata": {
        "id": "WypmKVpCfAdQ",
        "colab_type": "code",
        "colab": {
          "base_uri": "https://localhost:8080/",
          "height": 102
        },
        "outputId": "7f51495f-251d-4234-979b-6a955ee6f95c"
      },
      "source": [
        "# To create a row or column vector use this\n",
        "a = np.random.randn(5,1)\n",
        "print(a) # This is a column vector"
      ],
      "execution_count": 18,
      "outputs": [
        {
          "output_type": "stream",
          "text": [
            "[[ 0.77008083]\n",
            " [-0.44570056]\n",
            " [-0.06833898]\n",
            " [ 0.14298079]\n",
            " [ 0.29211476]]\n"
          ],
          "name": "stdout"
        }
      ]
    },
    {
      "cell_type": "code",
      "metadata": {
        "id": "j2HkN3Hffo8W",
        "colab_type": "code",
        "colab": {
          "base_uri": "https://localhost:8080/",
          "height": 34
        },
        "outputId": "343e4840-56e4-4bc7-8557-79268a1d4d37"
      },
      "source": [
        "print(a.T) # This is a row vector"
      ],
      "execution_count": 20,
      "outputs": [
        {
          "output_type": "stream",
          "text": [
            "[[ 0.77008083 -0.44570056 -0.06833898  0.14298079  0.29211476]]\n"
          ],
          "name": "stdout"
        }
      ]
    },
    {
      "cell_type": "code",
      "metadata": {
        "id": "_a9ExWaHfu-m",
        "colab_type": "code",
        "colab": {
          "base_uri": "https://localhost:8080/",
          "height": 102
        },
        "outputId": "03c97b92-3b36-4f3c-efa2-97081dfbd870"
      },
      "source": [
        "print(np.dot(a, a.T)) # This gives a outer product"
      ],
      "execution_count": 22,
      "outputs": [
        {
          "output_type": "stream",
          "text": [
            "[[ 0.59302448 -0.34322546 -0.05262654  0.11010677  0.22495198]\n",
            " [-0.34322546  0.19864899  0.03045872 -0.06372662 -0.13019571]\n",
            " [-0.05262654  0.03045872  0.00467022 -0.00977116 -0.01996282]\n",
            " [ 0.11010677 -0.06372662 -0.00977116  0.02044351  0.0417668 ]\n",
            " [ 0.22495198 -0.13019571 -0.01996282  0.0417668   0.08533103]]\n"
          ],
          "name": "stdout"
        }
      ]
    },
    {
      "cell_type": "code",
      "metadata": {
        "id": "L_3y9jpohZ6_",
        "colab_type": "code",
        "colab": {}
      },
      "source": [
        "assert(a.shape == (5,1)) # Raises an assertion error if condition is false"
      ],
      "execution_count": 0,
      "outputs": []
    },
    {
      "cell_type": "code",
      "metadata": {
        "id": "tvoXCLfPh7vC",
        "colab_type": "code",
        "colab": {}
      },
      "source": [
        ""
      ],
      "execution_count": 0,
      "outputs": []
    }
  ]
}