{
  "nbformat": 4,
  "nbformat_minor": 0,
  "metadata": {
    "coursera": {
      "course_slug": "deep-neural-network",
      "graded_item_id": "Ckiv2",
      "launcher_item_id": "eNLYh"
    },
    "kernelspec": {
      "display_name": "Python 3",
      "language": "python",
      "name": "python3"
    },
    "language_info": {
      "codemirror_mode": {
        "name": "ipython",
        "version": 3
      },
      "file_extension": ".py",
      "mimetype": "text/x-python",
      "name": "python",
      "nbconvert_exporter": "python",
      "pygments_lexer": "ipython3",
      "version": "3.6.0"
    },
    "colab": {
      "name": "Tensorflow_example.ipynb",
      "provenance": []
    }
  },
  "cells": [
    {
      "cell_type": "markdown",
      "metadata": {
        "id": "TH1DD37tuzQ9",
        "colab_type": "text"
      },
      "source": [
        "# Tensorflow Example\n",
        "This notebook shows the basic structure of Tensorflow programs.\n",
        "\n",
        "#### Note: This program uses Tensorflow 1.x"
      ]
    },
    {
      "cell_type": "code",
      "metadata": {
        "id": "ZVsKVGaruwwt",
        "colab_type": "code",
        "colab": {
          "base_uri": "https://localhost:8080/",
          "height": 34
        },
        "outputId": "9a77f73c-cc23-4646-ce16-84c9f7ca7ea8"
      },
      "source": [
        "import numpy as np\n",
        "# Specifying the Tensorflow version manually as Colab imports tf-2.x by default\n",
        "%tensorflow_version 1.x\n",
        "import tensorflow as tf\n",
        "print(tf.__version__)"
      ],
      "execution_count": 22,
      "outputs": [
        {
          "output_type": "stream",
          "text": [
            "1.15.2\n"
          ],
          "name": "stdout"
        }
      ]
    },
    {
      "cell_type": "code",
      "metadata": {
        "id": "ELWHIogOu_sM",
        "colab_type": "code",
        "colab": {
          "base_uri": "https://localhost:8080/",
          "height": 34
        },
        "outputId": "5dc2bd5c-bb81-4f1b-c476-12b7064dc5df"
      },
      "source": [
        "coefficients = np.array([[1.], [-20.], [25.]])\n",
        "\n",
        "w = tf.Variable([0], dtype=tf.float32)\n",
        "x = tf.placeholder(tf.float32, [3, 1]) # Placeholder for input data\n",
        "# cost = tf.add(tf.add(w**2, tf.multiply(-10.0, w)),25)\n",
        "# cost = w**2 - 20*w + 100\n",
        "cost = x[0][0]*w**2 - x[1][0]*w + x[2][0]\n",
        "train = tf.train.GradientDescentOptimizer(0.01).minimize(cost)\n",
        "\n",
        "init = tf.global_variables_initializer()\n",
        "session = tf.Session()\n",
        "with tf.Session() as session:\n",
        "  session.run(init)\n",
        "  print(session.run(w))"
      ],
      "execution_count": 49,
      "outputs": [
        {
          "output_type": "stream",
          "text": [
            "[0.]\n"
          ],
          "name": "stdout"
        }
      ]
    },
    {
      "cell_type": "code",
      "metadata": {
        "id": "EDi6yQKKd3V8",
        "colab_type": "code",
        "colab": {
          "base_uri": "https://localhost:8080/",
          "height": 34
        },
        "outputId": "d5b4605c-af28-4ff7-a41a-10c48f7a7295"
      },
      "source": [
        "# Performing the single training iteration\n",
        "with tf.Session() as session:\n",
        "  session.run(init)\n",
        "  session.run(train, feed_dict={x:coefficients})\n",
        "  print(session.run(w))"
      ],
      "execution_count": 52,
      "outputs": [
        {
          "output_type": "stream",
          "text": [
            "[-0.19999999]\n"
          ],
          "name": "stdout"
        }
      ]
    },
    {
      "cell_type": "code",
      "metadata": {
        "id": "Rg5VogECvUsx",
        "colab_type": "code",
        "colab": {
          "base_uri": "https://localhost:8080/",
          "height": 357
        },
        "outputId": "b668190a-53a3-4a72-eb58-82aa5adaced5"
      },
      "source": [
        "# Performing the 1000 training iterations\n",
        "with tf.Session() as session:\n",
        "  session.run(init)\n",
        "  for i in range(1000):\n",
        "    session.run(train, feed_dict={x:coefficients})\n",
        "    if i % 50 == 0:\n",
        "      print(\"Iteration {}: \".format(i), session.run(w)) "
      ],
      "execution_count": 57,
      "outputs": [
        {
          "output_type": "stream",
          "text": [
            "Iteration 0:  [-0.19999999]\n",
            "Iteration 50:  [-6.431137]\n",
            "Iteration 100:  [-8.700328]\n",
            "Iteration 150:  [-9.526698]\n",
            "Iteration 200:  [-9.827639]\n",
            "Iteration 250:  [-9.937231]\n",
            "Iteration 300:  [-9.977141]\n",
            "Iteration 350:  [-9.991673]\n",
            "Iteration 400:  [-9.996967]\n",
            "Iteration 450:  [-9.998896]\n",
            "Iteration 500:  [-9.9995985]\n",
            "Iteration 550:  [-9.999852]\n",
            "Iteration 600:  [-9.999943]\n",
            "Iteration 650:  [-9.999976]\n",
            "Iteration 700:  [-9.999976]\n",
            "Iteration 750:  [-9.999976]\n",
            "Iteration 800:  [-9.999976]\n",
            "Iteration 850:  [-9.999976]\n",
            "Iteration 900:  [-9.999976]\n",
            "Iteration 950:  [-9.999976]\n"
          ],
          "name": "stdout"
        }
      ]
    },
    {
      "cell_type": "code",
      "metadata": {
        "id": "gCIQh0xp3Syr",
        "colab_type": "code",
        "colab": {}
      },
      "source": [
        ""
      ],
      "execution_count": 0,
      "outputs": []
    }
  ]
}