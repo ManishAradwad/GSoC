{
 "cells": [
  {
   "cell_type": "code",
   "execution_count": null,
   "metadata": {},
   "outputs": [],
   "source": [
    "\"\"\"\n",
    "\n",
    "Examples on how TFLite converts following models to TFLite models:\n",
    "1. tf.keras models   2. Saved Models  3. Concrete functions\n",
    "\n",
    "TFLite models are called as TFLite Flatbuffer. TFLite models is a format suitable for TFLite Interpreter to\n",
    "run our models on these devices.\n",
    "\n",
    "\"\"\"\n",
    "\n",
    "#imports\n",
    "import tensorflow as tf\n",
    "import pathlib"
   ]
  },
  {
   "cell_type": "code",
   "execution_count": null,
   "metadata": {},
   "outputs": [],
   "source": [
    "#data\n",
    "x = [-1,0,1,2,3,4]\n",
    "y = [-3,-1,1,3,5,7]\n",
    "\n",
    "model = tf.keras.Sequential([\n",
    "    tf.keras.layers.Dense(units=1, input_shape=[1])\n",
    "])\n",
    "\n",
    "model.compile(optimizer = 'sgd', loss = 'mean_squared_error')\n",
    "\n",
    "model.fit(x, y, epochs=10)"
   ]
  },
  {
   "cell_type": "code",
   "execution_count": null,
   "metadata": {},
   "outputs": [],
   "source": [
    "# ----------Saved model------------ #\n",
    "\n",
    "# Export Path(Temporary path, won't run)\n",
    "export_path = '/tmp/saved_model'\n",
    "tf.saved_model.save(model, export_path)\n",
    "\n",
    "# Convert the model\n",
    "converter = tf.lite.TFLiteConverter.from_saved_model(export_path)\n",
    "tflite_model = converter.convert()\n",
    "\n",
    "# Save TFLite model. Extension must be .tflite\n",
    "tflite_model_file = pathlib.Path('tmp/foo.tflite')\n",
    "tflite_model_file.write_bytes(tflite_model)"
   ]
  },
  {
   "cell_type": "code",
   "execution_count": null,
   "metadata": {},
   "outputs": [],
   "source": [
    "# ----------Keras model------------ #\n",
    "\n",
    "model = tf.keras.applications.MobileNet(weights='imagenet',input_shape = [224,224,3])\n",
    "\n",
    "# Model can be passed directly to converter, no need to save it \n",
    "converter = tf.lite.TFLiteConverter.from_keras.model(model)\n",
    "tf_lite_model = converter.convert()\n",
    "\n",
    "tf_lite_model_file = pathlib.Path('tmp/foo.tflite')\n",
    "tf_lite_model_file.write_bytes(tf_lite_model)"
   ]
  },
  {
   "cell_type": "code",
   "execution_count": null,
   "metadata": {},
   "outputs": [],
   "source": [
    "# ----------Concrete Function------------ #\n",
    "\n",
    "model = tf.keras.applications.MobileNet(weights='imagenet', input_shape=[224,224,3])\n",
    "\n",
    "run_model = tf.function(lambda x: model(x))\n",
    "\n",
    "concrete_function = run_model.get_concrete_function(tf.TensorSpec(model.inputs[0].shape,\n",
    "                                                                  model.input[0].dtype))\n",
    "\n",
    "converter = tf.lite.TFLiteConverter.from_concrete_function([concrete_function])\n",
    "tflite_model = converter.convert()"
   ]
  },
  {
   "cell_type": "code",
   "execution_count": null,
   "metadata": {},
   "outputs": [],
   "source": [
    "# Saving with command-line - Saved Model\n",
    "tflite_convert --output_file=model.tflite --saved_model_dir=\"tmp/saved_model\"\n",
    "\n",
    "# Saving with command-line - Keras Model\n",
    "tflite_convert --output_file=model.tflite --keras_model_file=model.h5"
   ]
  }
 ],
 "metadata": {
  "kernelspec": {
   "display_name": "Python 3",
   "language": "python",
   "name": "python3"
  },
  "language_info": {
   "codemirror_mode": {
    "name": "ipython",
    "version": 3
   },
   "file_extension": ".py",
   "mimetype": "text/x-python",
   "name": "python",
   "nbconvert_exporter": "python",
   "pygments_lexer": "ipython3",
   "version": "3.7.3"
  }
 },
 "nbformat": 4,
 "nbformat_minor": 2
}
