{
  "nbformat": 4,
  "nbformat_minor": 0,
  "metadata": {
    "kernelspec": {
      "name": "python3",
      "display_name": "Python 3"
    },
    "language_info": {
      "codemirror_mode": {
        "name": "ipython",
        "version": 3
      },
      "file_extension": ".py",
      "mimetype": "text/x-python",
      "name": "python",
      "nbconvert_exporter": "python",
      "pygments_lexer": "ipython3",
      "version": "3.7.3"
    },
    "colab": {
      "name": "Handwritten_Digit_Recogniser.ipynb",
      "provenance": []
    },
    "accelerator": "GPU"
  },
  "cells": [
    {
      "cell_type": "code",
      "metadata": {
        "id": "F1Z7mJrRVru7",
        "colab_type": "code",
        "outputId": "fc96ec29-41f8-4b17-ffd6-129ecedfa43d",
        "colab": {
          "base_uri": "https://localhost:8080/",
          "height": 207
        }
      },
      "source": [
        "\"\"\" An App to recognise handwritten digits using Tensorflow. MNIST Dataset is used and CNN is trained to \n",
        "achieve this task.\n",
        "    A GUI is created using TKinter which prompts user to draw a number and then we use our model to predict \n",
        "that number. \"\"\"\n",
        "\n",
        "try:\n",
        "  %tensorflow_version 2.x\n",
        "except Exception:\n",
        "  pass\n",
        "\n",
        "# Imports\n",
        "import tensorflow as tf\n",
        "import numpy as np\n",
        "import matplotlib.pyplot as plt\n",
        "from tkinter import *\n",
        "import tkinter as tk\n",
        "from PIL import Image\n",
        "\n",
        "# Loading dataset\n",
        "(x_train,y_train),(x_test,y_test) = tf.keras.datasets.mnist.load_data()"
      ],
      "execution_count": 12,
      "outputs": [
        {
          "output_type": "stream",
          "text": [
            "Collecting python3-xlib\n",
            "\u001b[?25l  Downloading https://files.pythonhosted.org/packages/ef/c6/2c5999de3bb1533521f1101e8fe56fd9c266732f4d48011c7c69b29d12ae/python3-xlib-0.15.tar.gz (132kB)\n",
            "\r\u001b[K     |██▌                             | 10kB 27.4MB/s eta 0:00:01\r\u001b[K     |█████                           | 20kB 35.7MB/s eta 0:00:01\r\u001b[K     |███████▍                        | 30kB 40.3MB/s eta 0:00:01\r\u001b[K     |█████████▉                      | 40kB 40.8MB/s eta 0:00:01\r\u001b[K     |████████████▍                   | 51kB 43.0MB/s eta 0:00:01\r\u001b[K     |██████████████▉                 | 61kB 45.4MB/s eta 0:00:01\r\u001b[K     |█████████████████▎              | 71kB 46.0MB/s eta 0:00:01\r\u001b[K     |███████████████████▊            | 81kB 46.6MB/s eta 0:00:01\r\u001b[K     |██████████████████████▏         | 92kB 47.9MB/s eta 0:00:01\r\u001b[K     |████████████████████████▊       | 102kB 47.6MB/s eta 0:00:01\r\u001b[K     |███████████████████████████▏    | 112kB 47.6MB/s eta 0:00:01\r\u001b[K     |█████████████████████████████▋  | 122kB 47.6MB/s eta 0:00:01\r\u001b[K     |████████████████████████████████| 133kB 47.6MB/s \n",
            "\u001b[?25hBuilding wheels for collected packages: python3-xlib\n",
            "  Building wheel for python3-xlib (setup.py) ... \u001b[?25l\u001b[?25hdone\n",
            "  Created wheel for python3-xlib: filename=python3_xlib-0.15-cp36-none-any.whl size=109517 sha256=71dc14b0b502f522b756889a7faecfa63b5def64620bcd01ab9df57c186a999a\n",
            "  Stored in directory: /root/.cache/pip/wheels/e9/be/31/bebab5ac079cfa8305381fa6ee15ea142eade1fec0c71e1278\n",
            "Successfully built python3-xlib\n",
            "Installing collected packages: python3-xlib\n",
            "Successfully installed python3-xlib-0.15\n"
          ],
          "name": "stdout"
        }
      ]
    },
    {
      "cell_type": "code",
      "metadata": {
        "id": "KrDiTjHrVrvG",
        "colab_type": "code",
        "outputId": "fc8a8a23-faa9-407f-a8b6-47b0bf727eb3",
        "colab": {
          "base_uri": "https://localhost:8080/",
          "height": 51
        }
      },
      "source": [
        "print(y_train)\n",
        "print(x_train.shape, y_test.shape)"
      ],
      "execution_count": 2,
      "outputs": [
        {
          "output_type": "stream",
          "text": [
            "[5 0 4 ... 5 6 8]\n",
            "(60000, 28, 28) (10000,)\n"
          ],
          "name": "stdout"
        }
      ]
    },
    {
      "cell_type": "code",
      "metadata": {
        "id": "ov-sb3UQVrvN",
        "colab_type": "code",
        "outputId": "69a04433-e0d6-4956-d5e7-8b7c7b8414fb",
        "colab": {
          "base_uri": "https://localhost:8080/",
          "height": 51
        }
      },
      "source": [
        "# Preprocessing\n",
        "\n",
        "# Adding one more dimension of 1(for Grayscale) to dataset since CNN needs this dimension\n",
        "x_train = x_train.reshape(x_train.shape[0], 28, 28, 1)\n",
        "x_test = x_test.reshape(x_test.shape[0], 28, 28, 1)\n",
        "\n",
        "# Converting to float32 from uint8\n",
        "y_train = tf.keras.utils.to_categorical(y_train,10)\n",
        "y_test = tf.keras.utils.to_categorical(y_test,10)\n",
        "\n",
        "# Normalising\n",
        "x_train = x_train.astype('float32')/255\n",
        "x_test = x_test.astype('float32')/255\n",
        "print(\"Training Examples:{}\".format(x_train.shape[0]), \"\\nTesting examples:{}\".format(x_test.shape[0]))"
      ],
      "execution_count": 3,
      "outputs": [
        {
          "output_type": "stream",
          "text": [
            "Training Examples:60000 \n",
            "Testing examples:10000\n"
          ],
          "name": "stdout"
        }
      ]
    },
    {
      "cell_type": "code",
      "metadata": {
        "id": "cYUnsr_4Vrvj",
        "colab_type": "code",
        "outputId": "73e9fb8e-fb10-4eb2-cd07-590286465af8",
        "colab": {
          "base_uri": "https://localhost:8080/",
          "height": 425
        }
      },
      "source": [
        "# Building and Compiling our model. We use CNN based model because it performs well on grid structured dataset and hence is good for Image\n",
        "# Classification tasks\n",
        "\n",
        "input_shape = (28,28,1)\n",
        "batch_size = 128\n",
        "num_classes = 10\n",
        "epochs = 10\n",
        "\n",
        "model = tf.keras.models.Sequential([\n",
        "              tf.keras.layers.Conv2D(32, kernel_size = (3,3), activation = 'relu', input_shape = input_shape),\n",
        "              tf.keras.layers.Conv2D(64, kernel_size = (3,3), activation='relu'),\n",
        "              tf.keras.layers.MaxPooling2D((2,2)),\n",
        "\n",
        "              tf.keras.layers.Dropout(0.25),\n",
        "              tf.keras.layers.Flatten(),\n",
        "              tf.keras.layers.Dense(256,activation='relu'),\n",
        "\n",
        "              tf.keras.layers.Dropout(0.5),\n",
        "              tf.keras.layers.Dense(num_classes,activation='softmax')\n",
        "])\n",
        "\n",
        "model.compile(loss = tf.keras.losses.categorical_crossentropy,\n",
        "              optimizer = tf.keras.optimizers.Adadelta(),\n",
        "              metrics = [\"accuracy\"])\n",
        "\n",
        "model.summary()"
      ],
      "execution_count": 4,
      "outputs": [
        {
          "output_type": "stream",
          "text": [
            "Model: \"sequential\"\n",
            "_________________________________________________________________\n",
            "Layer (type)                 Output Shape              Param #   \n",
            "=================================================================\n",
            "conv2d (Conv2D)              (None, 26, 26, 32)        320       \n",
            "_________________________________________________________________\n",
            "conv2d_1 (Conv2D)            (None, 24, 24, 64)        18496     \n",
            "_________________________________________________________________\n",
            "max_pooling2d (MaxPooling2D) (None, 12, 12, 64)        0         \n",
            "_________________________________________________________________\n",
            "dropout (Dropout)            (None, 12, 12, 64)        0         \n",
            "_________________________________________________________________\n",
            "flatten (Flatten)            (None, 9216)              0         \n",
            "_________________________________________________________________\n",
            "dense (Dense)                (None, 256)               2359552   \n",
            "_________________________________________________________________\n",
            "dropout_1 (Dropout)          (None, 256)               0         \n",
            "_________________________________________________________________\n",
            "dense_1 (Dense)              (None, 10)                2570      \n",
            "=================================================================\n",
            "Total params: 2,380,938\n",
            "Trainable params: 2,380,938\n",
            "Non-trainable params: 0\n",
            "_________________________________________________________________\n"
          ],
          "name": "stdout"
        }
      ]
    },
    {
      "cell_type": "code",
      "metadata": {
        "id": "WNfePRo1Yuz3",
        "colab_type": "code",
        "outputId": "6d990064-7755-4fe1-d8d1-a413f8f0aee9",
        "colab": {
          "base_uri": "https://localhost:8080/",
          "height": 374
        }
      },
      "source": [
        "# Training the model\n",
        "# We are using the same dataset for Validation and Testing purposes\n",
        "history = model.fit(x_train, y_train, batch_size = batch_size,\n",
        "                    validation_data = (x_test, y_test), epochs = epochs)"
      ],
      "execution_count": 5,
      "outputs": [
        {
          "output_type": "stream",
          "text": [
            "Train on 60000 samples, validate on 10000 samples\n",
            "Epoch 1/10\n",
            "60000/60000 [==============================] - 12s 201us/sample - loss: 2.2870 - accuracy: 0.1418 - val_loss: 2.2477 - val_accuracy: 0.3361\n",
            "Epoch 2/10\n",
            "60000/60000 [==============================] - 4s 74us/sample - loss: 2.2220 - accuracy: 0.2686 - val_loss: 2.1685 - val_accuracy: 0.5084\n",
            "Epoch 3/10\n",
            "60000/60000 [==============================] - 4s 74us/sample - loss: 2.1344 - accuracy: 0.3928 - val_loss: 2.0533 - val_accuracy: 0.6225\n",
            "Epoch 4/10\n",
            "60000/60000 [==============================] - 4s 74us/sample - loss: 2.0053 - accuracy: 0.5038 - val_loss: 1.8810 - val_accuracy: 0.6875\n",
            "Epoch 5/10\n",
            "60000/60000 [==============================] - 4s 74us/sample - loss: 1.8230 - accuracy: 0.5814 - val_loss: 1.6471 - val_accuracy: 0.7299\n",
            "Epoch 6/10\n",
            "60000/60000 [==============================] - 5s 75us/sample - loss: 1.5951 - accuracy: 0.6285 - val_loss: 1.3767 - val_accuracy: 0.7613\n",
            "Epoch 7/10\n",
            "60000/60000 [==============================] - 5s 76us/sample - loss: 1.3617 - accuracy: 0.6676 - val_loss: 1.1237 - val_accuracy: 0.7885\n",
            "Epoch 8/10\n",
            "60000/60000 [==============================] - 4s 73us/sample - loss: 1.1674 - accuracy: 0.6931 - val_loss: 0.9266 - val_accuracy: 0.8141\n",
            "Epoch 9/10\n",
            "60000/60000 [==============================] - 4s 74us/sample - loss: 1.0169 - accuracy: 0.7200 - val_loss: 0.7869 - val_accuracy: 0.8300\n",
            "Epoch 10/10\n",
            "60000/60000 [==============================] - 5s 76us/sample - loss: 0.9103 - accuracy: 0.7377 - val_loss: 0.6897 - val_accuracy: 0.8434\n"
          ],
          "name": "stdout"
        }
      ]
    },
    {
      "cell_type": "code",
      "metadata": {
        "id": "xcBWpVTgZuyt",
        "colab_type": "code",
        "outputId": "32db3583-b32d-4e9e-e276-7208c15da3ef",
        "colab": {
          "base_uri": "https://localhost:8080/",
          "height": 624
        }
      },
      "source": [
        "acc = history.history[\"accuracy\"]\n",
        "val_acc = history.history[\"val_accuracy\"]\n",
        "\n",
        "loss = history.history[\"loss\"]\n",
        "val_loss = history.history[\"val_loss\"]\n",
        "\n",
        "epochs_range = range(epochs)\n",
        "\n",
        "plt.figure(figsize=(10,10))\n",
        "plt.subplot(1,2,1)\n",
        "plt.plot(epochs_range, acc, label = \"Training Accuracy\")\n",
        "plt.plot(epochs_range, val_acc, label = \"Validation Accuracy\")\n",
        "plt.legend(loc=\"lower right\")\n",
        "plt.title(\"Accuracy Comparison\")\n",
        "\n",
        "plt.subplot(1,2,2)\n",
        "plt.plot(epochs_range, loss, label = \"Training Loss\")\n",
        "plt.plot(epochs_range, val_loss, label = \"Validation Loss\")\n",
        "plt.legend(loc=\"upper right\")\n",
        "plt.title(\"Loss Comparison\")"
      ],
      "execution_count": 6,
      "outputs": [
        {
          "output_type": "execute_result",
          "data": {
            "text/plain": [
              "Text(0.5, 1.0, 'Loss Comparison')"
            ]
          },
          "metadata": {
            "tags": []
          },
          "execution_count": 6
        },
        {
          "output_type": "display_data",
          "data": {
            "image/png": "[encoded data removed]",
            "text/plain": [
              "<Figure size 720x720 with 2 Axes>"
            ]
          },
          "metadata": {
            "tags": []
          }
        }
      ]
    },
    {
      "cell_type": "code",
      "metadata": {
        "id": "_ZuufaeUbG6R",
        "colab_type": "code",
        "colab": {}
      },
      "source": [
        "# Saving the model\n",
        "model.save(\"HandWritten_Digit_Recognizer.h5\")"
      ],
      "execution_count": 0,
      "outputs": []
    },
    {
      "cell_type": "code",
      "metadata": {
        "id": "ak5TxScqbdhG",
        "colab_type": "code",
        "outputId": "0c8695bb-077a-4a02-f4df-70b21070341d",
        "colab": {
          "base_uri": "https://localhost:8080/",
          "height": 34
        }
      },
      "source": [
        "# Testing the model\n",
        "test_score = model.evaluate(x_test, y_test, verbose = 1)"
      ],
      "execution_count": 8,
      "outputs": [
        {
          "output_type": "stream",
          "text": [
            "10000/10000 [==============================] - 1s 78us/sample - loss: 0.6897 - accuracy: 0.8434\n"
          ],
          "name": "stdout"
        }
      ]
    },
    {
      "cell_type": "code",
      "metadata": {
        "id": "LReTFeWPbpv2",
        "colab_type": "code",
        "outputId": "23248d92-8855-4f67-8b76-f8b0711eaeb7",
        "colab": {
          "base_uri": "https://localhost:8080/",
          "height": 129
        }
      },
      "source": [
        "# Creating an Interactive GUI on which user will draw a number and our model will predict that number\n",
        "\n",
        "remodel = tf.keras.models.load_model(\"HandWritten_Digit_Recognizer.h5\")\n",
        "remodel.summary()\n",
        "\n",
        "# Function which gets drawn number image as input and gives the prediction as output\n",
        "def predict_image(img):\n",
        "  img = np.array(img.resize(28,28).convert('L')) # Resizing and converting it to GrayScale and converting it to np array\n",
        "  img = img.reshape(1,28,28,1)/255.0 # Reshaping to create a batch and normalizing\n",
        "  res = remodel.predict([img])[0] # Predicting the number\n",
        "  return np.argmax(res), max(res)\n",
        "\n",
        "class App(tk.Tk):\n",
        "  def __init__(self):\n",
        "    tk.Tk.__init__(self)\n",
        "    self.x, self.y = 0\n",
        "\n",
        "    self.canvas = tk.Canvas(self, width = 300, height = 300, bg = \"white\", cursor = \"cross\")\n",
        "    self.label = tk.Label(self, text=\"Handwritten Digit Recogniser\", font = \"Lobster\", size = 48)\n",
        "    self.classify_button = tk.Button(self, text = \"Recognise\", command = self.classify_handwriting)\n",
        "    self.clr_button = tk.Button(self, text = \"Clear\", command = self.clear_all)\n",
        "    \n",
        "\n",
        "    self.canvas.grid(row = 0, column = 0, pady = 2, sticky = W)\n",
        "    self.label.grid(row = 0, column = 1, pady = 2, padx = 2)\n",
        "    self.classify_button.grid(row = 1, column = 1, pady = 2, padx = 2)\n",
        "    self.clr_button.grid(row = 1, column = 0, pady = 2)\n",
        "\n",
        "    self.canvas.bind(\"<B1-Motion>\", self.draw_lines)\n",
        "\n",
        "  def clear_all(self):\n",
        "    self.canvas.delete(\"all\")\n",
        "\n",
        "  def classify_handwriting(self):\n",
        "    HWND = self.canvas.winfo_id()\n",
        "    rect = "
      ],
      "execution_count": 10,
      "outputs": [
        {
          "output_type": "error",
          "ename": "SyntaxError",
          "evalue": "ignored",
          "traceback": [
            "\u001b[0;36m  File \u001b[0;32m\"<ipython-input-10-b7374be12f66>\"\u001b[0;36m, line \u001b[0;32m18\u001b[0m\n\u001b[0;31m    self.label = tk.Label(self, text=\"Handwritten Digit Recogniser\", font = \"Lobster\", 48)\u001b[0m\n\u001b[0m                                                                                      ^\u001b[0m\n\u001b[0;31mSyntaxError\u001b[0m\u001b[0;31m:\u001b[0m positional argument follows keyword argument\n"
          ]
        }
      ]
    },
    {
      "cell_type": "code",
      "metadata": {
        "id": "tDG9vIx1ekE_",
        "colab_type": "code",
        "colab": {}
      },
      "source": [
        ""
      ],
      "execution_count": 0,
      "outputs": []
    }
  ]
}