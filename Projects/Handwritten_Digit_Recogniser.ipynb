{
  "nbformat": 4,
  "nbformat_minor": 0,
  "metadata": {
    "kernelspec": {
      "name": "python3",
      "display_name": "Python 3"
    },
    "language_info": {
      "codemirror_mode": {
        "name": "ipython",
        "version": 3
      },
      "file_extension": ".py",
      "mimetype": "text/x-python",
      "name": "python",
      "nbconvert_exporter": "python",
      "pygments_lexer": "ipython3",
      "version": "3.7.3"
    },
    "colab": {
      "name": "Handwritten_Digit_Recogniser.ipynb",
      "provenance": []
    },
    "accelerator": "GPU"
  },
  "cells": [
    {
      "cell_type": "code",
      "metadata": {
        "id": "F1Z7mJrRVru7",
        "colab_type": "code",
        "outputId": "d0da90b5-6343-4ddb-9c8f-c93a5f34ba88",
        "colab": {
          "base_uri": "https://localhost:8080/",
          "height": 68
        }
      },
      "source": [
        "\"\"\" An App to recognise handwritten digits using Tensorflow. MNIST Dataset is used and CNN is trained to \n",
        "achieve this task.\n",
        "    A GUI is created using TKinter which prompts user to draw a number and then we use our model to predict \n",
        "that number. \"\"\"\n",
        "\n",
        "try:\n",
        "  %tensorflow_version 2.x\n",
        "except Exception:\n",
        "  pass\n",
        "\n",
        "# Imports\n",
        "import tensorflow as tf\n",
        "import numpy as np\n",
        "import matplotlib.pyplot as plt\n",
        "\n",
        "# Loading dataset\n",
        "(x_train,y_train),(x_test,y_test) = tf.keras.datasets.mnist.load_data()"
      ],
      "execution_count": 1,
      "outputs": [
        {
          "output_type": "stream",
          "text": [
            "TensorFlow 2.x selected.\n",
            "Downloading data from https://storage.googleapis.com/tensorflow/tf-keras-datasets/mnist.npz\n",
            "11493376/11490434 [==============================] - 0s 0us/step\n"
          ],
          "name": "stdout"
        }
      ]
    },
    {
      "cell_type": "code",
      "metadata": {
        "id": "KrDiTjHrVrvG",
        "colab_type": "code",
        "outputId": "196fb583-04d1-4933-e2c2-9058bb164f5e",
        "colab": {
          "base_uri": "https://localhost:8080/",
          "height": 51
        }
      },
      "source": [
        "print(y_train)\n",
        "print(x_train.shape, y_test.shape)"
      ],
      "execution_count": 2,
      "outputs": [
        {
          "output_type": "stream",
          "text": [
            "[5 0 4 ... 5 6 8]\n",
            "(60000, 28, 28) (10000,)\n"
          ],
          "name": "stdout"
        }
      ]
    },
    {
      "cell_type": "code",
      "metadata": {
        "id": "ov-sb3UQVrvN",
        "colab_type": "code",
        "outputId": "92ddb614-9da1-43b6-fb50-dbdb18d95a65",
        "colab": {
          "base_uri": "https://localhost:8080/",
          "height": 51
        }
      },
      "source": [
        "# Preprocessing\n",
        "\n",
        "# Adding one more dimension of 1(for Grayscale) to dataset since CNN needs this dimension\n",
        "x_train = x_train.reshape(x_train.shape[0], 28, 28, 1)\n",
        "x_test = x_test.reshape(x_test.shape[0], 28, 28, 1)\n",
        "\n",
        "# Converting to float32 from uint8\n",
        "y_train = tf.keras.utils.to_categorical(y_train,10)\n",
        "y_test = tf.keras.utils.to_categorical(y_test,10)\n",
        "\n",
        "# Normalising\n",
        "x_train = x_train.astype('float32')/255\n",
        "x_test = x_test.astype('float32')/255\n",
        "print(\"Training Examples:{}\".format(x_train.shape[0]), \"\\nTesting examples:{}\".format(x_test.shape[0]))"
      ],
      "execution_count": 3,
      "outputs": [
        {
          "output_type": "stream",
          "text": [
            "Training Examples:60000 \n",
            "Testing examples:10000\n"
          ],
          "name": "stdout"
        }
      ]
    },
    {
      "cell_type": "code",
      "metadata": {
        "id": "cYUnsr_4Vrvj",
        "colab_type": "code",
        "outputId": "f42abc21-045e-4b67-ec0d-a7fab5ae0ff4",
        "colab": {
          "base_uri": "https://localhost:8080/",
          "height": 425
        }
      },
      "source": [
        "# Building and Compiling our model. We use CNN based model because it performs well on grid structured dataset and hence is good for Image\n",
        "# Classification tasks\n",
        "\n",
        "input_shape = (28,28,1)\n",
        "batch_size = 128\n",
        "num_classes = 10\n",
        "epochs = 10\n",
        "\n",
        "model = tf.keras.models.Sequential([\n",
        "              tf.keras.layers.Conv2D(32, kernel_size = (3,3), activation = 'relu', input_shape = input_shape),\n",
        "              tf.keras.layers.Conv2D(64, kernel_size = (3,3), activation='relu'),\n",
        "              tf.keras.layers.MaxPooling2D((2,2)),\n",
        "\n",
        "              tf.keras.layers.Dropout(0.25),\n",
        "              tf.keras.layers.Flatten(),\n",
        "              tf.keras.layers.Dense(256,activation='relu'),\n",
        "\n",
        "              tf.keras.layers.Dropout(0.5),\n",
        "              tf.keras.layers.Dense(num_classes,activation='softmax')\n",
        "])\n",
        "\n",
        "model.compile(loss = tf.keras.losses.categorical_crossentropy,\n",
        "              optimizer = tf.keras.optimizers.Adadelta(),\n",
        "              metrics = [\"accuracy\"])\n",
        "\n",
        "model.summary()"
      ],
      "execution_count": 4,
      "outputs": [
        {
          "output_type": "stream",
          "text": [
            "Model: \"sequential\"\n",
            "_________________________________________________________________\n",
            "Layer (type)                 Output Shape              Param #   \n",
            "=================================================================\n",
            "conv2d (Conv2D)              (None, 26, 26, 32)        320       \n",
            "_________________________________________________________________\n",
            "conv2d_1 (Conv2D)            (None, 24, 24, 64)        18496     \n",
            "_________________________________________________________________\n",
            "max_pooling2d (MaxPooling2D) (None, 12, 12, 64)        0         \n",
            "_________________________________________________________________\n",
            "dropout (Dropout)            (None, 12, 12, 64)        0         \n",
            "_________________________________________________________________\n",
            "flatten (Flatten)            (None, 9216)              0         \n",
            "_________________________________________________________________\n",
            "dense (Dense)                (None, 256)               2359552   \n",
            "_________________________________________________________________\n",
            "dropout_1 (Dropout)          (None, 256)               0         \n",
            "_________________________________________________________________\n",
            "dense_1 (Dense)              (None, 10)                2570      \n",
            "=================================================================\n",
            "Total params: 2,380,938\n",
            "Trainable params: 2,380,938\n",
            "Non-trainable params: 0\n",
            "_________________________________________________________________\n"
          ],
          "name": "stdout"
        }
      ]
    },
    {
      "cell_type": "code",
      "metadata": {
        "id": "WNfePRo1Yuz3",
        "colab_type": "code",
        "outputId": "102052f4-ca49-4966-89e7-158ffe3c090d",
        "colab": {
          "base_uri": "https://localhost:8080/",
          "height": 374
        }
      },
      "source": [
        "# Training the model\n",
        "# We are using the same dataset for Validation and Testing purposes\n",
        "history = model.fit(x_train, y_train, batch_size = batch_size,\n",
        "                    validation_data = (x_test, y_test), epochs = epochs)"
      ],
      "execution_count": 5,
      "outputs": [
        {
          "output_type": "stream",
          "text": [
            "Train on 60000 samples, validate on 10000 samples\n",
            "Epoch 1/10\n",
            "60000/60000 [==============================] - 10s 168us/sample - loss: 2.2702 - accuracy: 0.1571 - val_loss: 2.2222 - val_accuracy: 0.4363\n",
            "Epoch 2/10\n",
            "60000/60000 [==============================] - 3s 56us/sample - loss: 2.1936 - accuracy: 0.3028 - val_loss: 2.1307 - val_accuracy: 0.6020\n",
            "Epoch 3/10\n",
            "60000/60000 [==============================] - 3s 56us/sample - loss: 2.0967 - accuracy: 0.4388 - val_loss: 2.0056 - val_accuracy: 0.6848\n",
            "Epoch 4/10\n",
            "60000/60000 [==============================] - 3s 56us/sample - loss: 1.9604 - accuracy: 0.5416 - val_loss: 1.8289 - val_accuracy: 0.7293\n",
            "Epoch 5/10\n",
            "60000/60000 [==============================] - 3s 56us/sample - loss: 1.7772 - accuracy: 0.6022 - val_loss: 1.5983 - val_accuracy: 0.7505\n",
            "Epoch 6/10\n",
            "60000/60000 [==============================] - 3s 55us/sample - loss: 1.5587 - accuracy: 0.6391 - val_loss: 1.3417 - val_accuracy: 0.7718\n",
            "Epoch 7/10\n",
            "60000/60000 [==============================] - 3s 56us/sample - loss: 1.3387 - accuracy: 0.6716 - val_loss: 1.1057 - val_accuracy: 0.7916\n",
            "Epoch 8/10\n",
            "60000/60000 [==============================] - 3s 56us/sample - loss: 1.1579 - accuracy: 0.6932 - val_loss: 0.9215 - val_accuracy: 0.8107\n",
            "Epoch 9/10\n",
            "60000/60000 [==============================] - 3s 56us/sample - loss: 1.0217 - accuracy: 0.7149 - val_loss: 0.7900 - val_accuracy: 0.8268\n",
            "Epoch 10/10\n",
            "60000/60000 [==============================] - 3s 56us/sample - loss: 0.9225 - accuracy: 0.7341 - val_loss: 0.6971 - val_accuracy: 0.8382\n"
          ],
          "name": "stdout"
        }
      ]
    },
    {
      "cell_type": "code",
      "metadata": {
        "id": "xcBWpVTgZuyt",
        "colab_type": "code",
        "outputId": "648e1688-d801-4363-8cc5-25a94aec3834",
        "colab": {
          "base_uri": "https://localhost:8080/",
          "height": 624
        }
      },
      "source": [
        "acc = history.history[\"accuracy\"]\n",
        "val_acc = history.history[\"val_accuracy\"]\n",
        "\n",
        "loss = history.history[\"loss\"]\n",
        "val_loss = history.history[\"val_loss\"]\n",
        "\n",
        "epochs_range = range(epochs)\n",
        "\n",
        "plt.figure(figsize=(10,10))\n",
        "plt.subplot(1,2,1)\n",
        "plt.plot(epochs_range, acc, label = \"Training Accuracy\")\n",
        "plt.plot(epochs_range, val_acc, label = \"Validation Accuracy\")\n",
        "plt.legend(loc=\"lower right\")\n",
        "plt.title(\"Accuracy Comparison\")\n",
        "\n",
        "plt.subplot(1,2,2)\n",
        "plt.plot(epochs_range, loss, label = \"Training Loss\")\n",
        "plt.plot(epochs_range, val_loss, label = \"Validation Loss\")\n",
        "plt.legend(loc=\"upper right\")\n",
        "plt.title(\"Loss Comparison\")"
      ],
      "execution_count": 6,
      "outputs": [
        {
          "output_type": "execute_result",
          "data": {
            "text/plain": [
              "Text(0.5, 1.0, 'Loss Comparison')"
            ]
          },
          "metadata": {
            "tags": []
          },
          "execution_count": 6
        },
        {
          "output_type": "display_data",
          "data": {
            "image/png": "[encoded data removed]",
            "text/plain": [
              "<Figure size 720x720 with 2 Axes>"
            ]
          },
          "metadata": {
            "tags": []
          }
        }
      ]
    },
    {
      "cell_type": "code",
      "metadata": {
        "id": "_ZuufaeUbG6R",
        "colab_type": "code",
        "colab": {
          "base_uri": "https://localhost:8080/",
          "height": 34
        },
        "outputId": "735aa7c9-bcea-4ebf-e779-e520d0a26ba3"
      },
      "source": [
        "# Testing the model\n",
        "test_score = model.evaluate(x_test, y_test, verbose = 1)\n",
        "# Saving the model\n",
        "model.save(\"HandWritten_Digit_Recognizer.h5\")"
      ],
      "execution_count": 7,
      "outputs": [
        {
          "output_type": "stream",
          "text": [
            "10000/10000 [==============================] - 1s 77us/sample - loss: 0.6971 - accuracy: 0.8382\n"
          ],
          "name": "stdout"
        }
      ]
    }
  ]
}