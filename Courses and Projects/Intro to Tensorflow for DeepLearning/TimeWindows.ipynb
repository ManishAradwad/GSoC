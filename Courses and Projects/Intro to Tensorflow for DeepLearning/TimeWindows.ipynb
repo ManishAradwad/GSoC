{
 "cells": [
  {
   "cell_type": "code",
   "execution_count": 1,
   "metadata": {},
   "outputs": [],
   "source": [
    "import tensorflow as tf"
   ]
  },
  {
   "cell_type": "code",
   "execution_count": 3,
   "metadata": {},
   "outputs": [
    {
     "name": "stdout",
     "output_type": "stream",
     "text": [
      "0\n",
      "1\n",
      "2\n",
      "3\n",
      "4\n",
      "5\n",
      "6\n",
      "7\n",
      "8\n",
      "9\n"
     ]
    }
   ],
   "source": [
    "# Create a dataset of 10 values from 0 to 9. These values are stored as tensors.\n",
    "dataset = tf.data.Dataset.range(10)\n",
    "for val in dataset:\n",
    "    print(val.numpy())"
   ]
  },
  {
   "cell_type": "code",
   "execution_count": 15,
   "metadata": {},
   "outputs": [
    {
     "name": "stdout",
     "output_type": "stream",
     "text": [
      "0 1 2 3 4 \n",
      "1 2 3 4 5 \n",
      "2 3 4 5 6 \n",
      "3 4 5 6 7 \n",
      "4 5 6 7 8 \n",
      "5 6 7 8 9 \n",
      "6 7 8 9 \n",
      "7 8 9 \n",
      "8 9 \n",
      "9 \n"
     ]
    }
   ],
   "source": [
    "# Create a window of window_size 5 which will shift by 1 step for every iteration. In this way, we get \n",
    "# a dataset containing datasets of windows of size 5.\n",
    "dataset = tf.data.Dataset.range(10)\n",
    "dataset = dataset.window(5,shift=1)\n",
    "for window_dataset in dataset:\n",
    "    for val in window_dataset:\n",
    "        print(val.numpy(),end=\" \")\n",
    "    print()"
   ]
  },
  {
   "cell_type": "code",
   "execution_count": 14,
   "metadata": {},
   "outputs": [
    {
     "name": "stdout",
     "output_type": "stream",
     "text": [
      "0 1 2 3 4 \n",
      "1 2 3 4 5 \n",
      "2 3 4 5 6 \n",
      "3 4 5 6 7 \n",
      "4 5 6 7 8 \n",
      "5 6 7 8 9 \n"
     ]
    }
   ],
   "source": [
    "# drop_remainder drops datasets which are not of window_size, because ML models need input features of same size\n",
    "dataset = tf.data.Dataset.range(10).window(5,shift=1,drop_remainder=True)\n",
    "for window_dataset in dataset:\n",
    "    for val in window_dataset:\n",
    "        print(val.numpy(),end=\" \")\n",
    "    print()"
   ]
  },
  {
   "cell_type": "code",
   "execution_count": 26,
   "metadata": {},
   "outputs": [
    {
     "name": "stdout",
     "output_type": "stream",
     "text": [
      "[0 1 2 3 4]\n",
      "[1 2 3 4 5]\n",
      "[2 3 4 5 6]\n",
      "[3 4 5 6 7]\n",
      "[4 5 6 7 8]\n",
      "[5 6 7 8 9]\n"
     ]
    }
   ],
   "source": [
    "# flat_map takes each window_dataset in dataset and groups it in batch of size 5 as a single tensor\n",
    "dataset = tf.data.Dataset.range(10).window(5,shift=1,drop_remainder=True)\n",
    "dataset = dataset.flat_map(lambda window: window.batch(5))\n",
    "for window_dataset in dataset:\n",
    "    print(window_dataset.numpy())"
   ]
  },
  {
   "cell_type": "code",
   "execution_count": 29,
   "metadata": {},
   "outputs": [
    {
     "name": "stdout",
     "output_type": "stream",
     "text": [
      "[0 1 2 3] [4]\n",
      "[1 2 3 4] [5]\n",
      "[2 3 4 5] [6]\n",
      "[3 4 5 6] [7]\n",
      "[4 5 6 7] [8]\n",
      "[5 6 7 8] [9]\n"
     ]
    }
   ],
   "source": [
    "# Now we separate these individual datasets into input_features and labels to feed to ML model\n",
    "dataset = tf.data.Dataset.range(10).window(5,shift=1,drop_remainder=True).flat_map(lambda window: window.batch(5))\n",
    "dataset = dataset.map(lambda window: (window[:-1],window[-1:]))\n",
    "for x,y in dataset:\n",
    "    print(x.numpy(),y.numpy())"
   ]
  },
  {
   "cell_type": "code",
   "execution_count": 33,
   "metadata": {},
   "outputs": [
    {
     "name": "stdout",
     "output_type": "stream",
     "text": [
      "[2 3 4 5] [6]\n",
      "[0 1 2 3] [4]\n",
      "[1 2 3 4] [5]\n",
      "[3 4 5 6] [7]\n",
      "[4 5 6 7] [8]\n",
      "[5 6 7 8] [9]\n"
     ]
    }
   ],
   "source": [
    "# Shuffling the dataset\n",
    "dataset = tf.data.Dataset.range(10).window(5,shift=1,drop_remainder=True).flat_map(lambda window: window.batch(5))\n",
    "dataset = dataset.map(lambda window: (window[:-1],window[-1:])).shuffle(buffer_size = 10)\n",
    "for x,y in dataset:\n",
    "    print(x.numpy(),y.numpy())"
   ]
  },
  {
   "cell_type": "code",
   "execution_count": 37,
   "metadata": {},
   "outputs": [
    {
     "name": "stdout",
     "output_type": "stream",
     "text": [
      "x = [[4 5 6 7]\n",
      " [5 6 7 8]] \n",
      "y = [[8]\n",
      " [9]]\n",
      "x = [[0 1 2 3]\n",
      " [2 3 4 5]] \n",
      "y = [[4]\n",
      " [6]]\n",
      "x = [[1 2 3 4]\n",
      " [3 4 5 6]] \n",
      "y = [[5]\n",
      " [7]]\n"
     ]
    }
   ],
   "source": [
    "# Finally we create batches of 2 such datasets because ML models need batches of dataset for training\n",
    "dataset = tf.data.Dataset.range(10)\n",
    "dataset = dataset.window(5,shift=1,drop_remainder=True)\n",
    "dataset = dataset.flat_map(lambda window: window.batch(5))\n",
    "dataset = dataset.map(lambda window : (window[:-1],window[-1:]))\n",
    "dataset = dataset.shuffle(buffer_size=10)\n",
    "dataset = dataset.batch(2).prefetch(1)\n",
    "for x,y in dataset:\n",
    "    print(\"x = {}\".format(x.numpy()),\"\\ny = {}\".format(y.numpy()))"
   ]
  },
  {
   "cell_type": "code",
   "execution_count": 39,
   "metadata": {},
   "outputs": [],
   "source": [
    "# A function which will perform above operations and return a final dataset\n",
    "def window_dataset(series,window_size,batch_size=32,shuffle_buffer=100):\n",
    "    dataset = tf.data.Dataset.from_tensor_slices(series)\n",
    "    dataset = dataset.window(window_size + 1,shift=1,drop_remainder=True)\n",
    "    dataset = dataset.flat_map(lambda window: window.batch(window_size+1))\n",
    "    dataset = dataset.map(lambda window: (window[:-1],window[-1:]))\n",
    "    dataset = dataset.shuffle(shuffle_buffer)\n",
    "    dataset = dataset.batch(batch_size).prefetch(1)\n",
    "    return dataset"
   ]
  },
  {
   "cell_type": "code",
   "execution_count": null,
   "metadata": {},
   "outputs": [],
   "source": []
  }
 ],
 "metadata": {
  "kernelspec": {
   "display_name": "Python 3",
   "language": "python",
   "name": "python3"
  },
  "language_info": {
   "codemirror_mode": {
    "name": "ipython",
    "version": 3
   },
   "file_extension": ".py",
   "mimetype": "text/x-python",
   "name": "python",
   "nbconvert_exporter": "python",
   "pygments_lexer": "ipython3",
   "version": "3.7.3"
  }
 },
 "nbformat": 4,
 "nbformat_minor": 2
}
