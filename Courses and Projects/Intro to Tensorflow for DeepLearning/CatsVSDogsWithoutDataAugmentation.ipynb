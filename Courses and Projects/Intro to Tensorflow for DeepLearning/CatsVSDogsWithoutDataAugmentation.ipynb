{
 "cells": [
  {
   "cell_type": "code",
   "execution_count": 1,
   "metadata": {},
   "outputs": [],
   "source": [
    "import tensorflow as tf\n",
    "import numpy as np\n",
    "import matplotlib.pyplot as plt\n",
    "from tensorflow.keras.preprocessing.image import ImageDataGenerator\n",
    "import logging\n",
    "tf.get_logger().setLevel(logging.ERROR)\n",
    "import os"
   ]
  },
  {
   "cell_type": "code",
   "execution_count": 2,
   "metadata": {},
   "outputs": [
    {
     "name": "stdout",
     "output_type": "stream",
     "text": [
      "/home/shadow-man/.keras/datasets\r\n",
      "/home/shadow-man/.keras/datasets/cats_and_dogs_filtered\r\n",
      "/home/shadow-man/.keras/datasets/cats_and_dogs_filtered/validation\r\n",
      "/home/shadow-man/.keras/datasets/cats_and_dogs_filtered/validation/dogs\r\n",
      "/home/shadow-man/.keras/datasets/cats_and_dogs_filtered/validation/cats\r\n",
      "/home/shadow-man/.keras/datasets/cats_and_dogs_filtered/train\r\n",
      "/home/shadow-man/.keras/datasets/cats_and_dogs_filtered/train/dogs\r\n",
      "/home/shadow-man/.keras/datasets/cats_and_dogs_filtered/train/cats\r\n",
      "/home/shadow-man/.keras/datasets/fashion-mnist\r\n"
     ]
    }
   ],
   "source": [
    "_URL = 'https://storage.googleapis.com/mledu-datasets/cats_and_dogs_filtered.zip'\n",
    "zip_dir = tf.keras.utils.get_file('cats_and_dogs_filtered.zip',origin=_URL,extract=True)\n",
    "zip_dir_base = os.path.dirname(zip_dir)\n",
    "!find $zip_dir_base -type d -print"
   ]
  },
  {
   "cell_type": "code",
   "execution_count": 12,
   "metadata": {},
   "outputs": [
    {
     "name": "stdout",
     "output_type": "stream",
     "text": [
      "/home/shadow-man/.keras/datasets/cats_and_dogs_filtered\n"
     ]
    }
   ],
   "source": [
    "base_dir = os.path.join(zip_dir_base,'cats_and_dogs_filtered')\n",
    "train_dir = os.path.join(base_dir,'train')\n",
    "validation_dir = os.path.join(base_dir,'validation')\n",
    "train_cats_dir = os.path.join(train_dir,'cats')\n",
    "train_dogs_dir = os.path.join(train_dir,'dogs')\n",
    "validation_cats_dir = os.path.join(validation_dir,'cats')\n",
    "validation_dogs_dir = os.path.join(validation_dir,'dogs')\n",
    "print(base_dir)"
   ]
  },
  {
   "cell_type": "code",
   "execution_count": 16,
   "metadata": {},
   "outputs": [
    {
     "name": "stdout",
     "output_type": "stream",
     "text": [
      "2000 1000\n"
     ]
    }
   ],
   "source": [
    "num_cats_tr = len(os.listdir(train_cats_dir))\n",
    "num_dogs_tr = len(os.listdir(train_dogs_dir))\n",
    "num_cats_val = len(os.listdir(validation_cats_dir))\n",
    "num_dogs_val = len(os.listdir(validation_dogs_dir))\n",
    "num_tr = num_cats_tr + num_dogs_tr\n",
    "num_val = num_cats_val + num_dogs_val\n",
    "print(num_tr,num_val)"
   ]
  },
  {
   "cell_type": "code",
   "execution_count": null,
   "metadata": {},
   "outputs": [],
   "source": []
  }
 ],
 "metadata": {
  "kernelspec": {
   "display_name": "Python 3",
   "language": "python",
   "name": "python3"
  },
  "language_info": {
   "codemirror_mode": {
    "name": "ipython",
    "version": 3
   },
   "file_extension": ".py",
   "mimetype": "text/x-python",
   "name": "python",
   "nbconvert_exporter": "python",
   "pygments_lexer": "ipython3",
   "version": "3.7.3"
  }
 },
 "nbformat": 4,
 "nbformat_minor": 2
}
