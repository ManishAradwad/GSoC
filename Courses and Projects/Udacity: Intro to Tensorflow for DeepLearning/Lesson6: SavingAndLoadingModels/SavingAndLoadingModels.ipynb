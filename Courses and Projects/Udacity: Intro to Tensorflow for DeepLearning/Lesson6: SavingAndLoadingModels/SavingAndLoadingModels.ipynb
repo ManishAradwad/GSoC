{
  "nbformat": 4,
  "nbformat_minor": 0,
  "metadata": {
    "kernelspec": {
      "name": "python3",
      "display_name": "Python 3"
    },
    "language_info": {
      "codemirror_mode": {
        "name": "ipython",
        "version": 3
      },
      "file_extension": ".py",
      "mimetype": "text/x-python",
      "name": "python",
      "nbconvert_exporter": "python",
      "pygments_lexer": "ipython3",
      "version": "3.7.3"
    },
    "colab": {
      "name": "SavingAndLoadingModels.ipynb",
      "provenance": []
    },
    "accelerator": "GPU"
  },
  "cells": [
    {
      "cell_type": "code",
      "metadata": {
        "id": "BVhrGXXUHdbE",
        "colab_type": "code",
        "colab": {
          "base_uri": "https://localhost:8080/",
          "height": 34
        },
        "outputId": "d2a418c1-5f00-42a4-b84f-9137b7b03bd9"
      },
      "source": [
        "\"\"\" In this Colab, a MobileNet based model is created using Transfer Learning and then it is saved. It is loaded and trained on a training\n",
        "dataset. A model can be saved in two formats, HDF5 format(Keras format) and SavedModel format(Tensorflow format). \"\"\"\n",
        "\n",
        "try:\n",
        "  %tensorflow_version 2.x\n",
        "except:\n",
        "  pass\n",
        "\n",
        "# Imports\n",
        "import tensorflow as tf\n",
        "import tensorflow_datasets as tfds\n",
        "import tensorflow_hub as hub\n",
        "import numpy as np\n",
        "import matplotlib.pyplot as plt\n",
        "import logging\n",
        "tf.get_logger().setLevel(logging.ERROR)\n",
        "import time"
      ],
      "execution_count": 2,
      "outputs": [
        {
          "output_type": "stream",
          "text": [
            "TensorFlow 2.x selected.\n"
          ],
          "name": "stdout"
        }
      ]
    },
    {
      "cell_type": "code",
      "metadata": {
        "id": "28XQOs_4HdbS",
        "colab_type": "code",
        "colab": {}
      },
      "source": [
        "# Preparing dataset\n",
        "splits = tfds.Split.ALL.subsplit(weighted=(80,20))\n",
        "(train_dataset,validation_dataset),info = tfds.load('cats_vs_dogs',split=splits,with_info=True,\n",
        "                                                    as_supervised=True)"
      ],
      "execution_count": 0,
      "outputs": []
    },
    {
      "cell_type": "code",
      "metadata": {
        "id": "oCBaIputHdbZ",
        "colab_type": "code",
        "colab": {}
      },
      "source": [
        "# Creating batches from dataset\n",
        "def format_image(image,label):\n",
        "    image = tf.image.resize(image,(IMG_SIZE,IMG_SIZE))/255.0\n",
        "    return image,label\n",
        "IMG_SIZE = 224\n",
        "BATCH_SIZE = 32\n",
        "num_examples = info.splits['train'].num_examples\n",
        "train_batches = train_dataset.cache().shuffle(num_examples//4).map(format_image).batch(BATCH_SIZE).prefetch(1)\n",
        "validation_batches = validation_dataset.cache().map(format_image).batch(BATCH_SIZE).prefetch(1)"
      ],
      "execution_count": 0,
      "outputs": []
    },
    {
      "cell_type": "code",
      "metadata": {
        "id": "DIfJkFloHdbf",
        "colab_type": "code",
        "colab": {}
      },
      "source": [
        "# Importing MobileNet model\n",
        "URL = \"https://tfhub.dev/google/tf2-preview/mobilenet_v2/feature_vector/4\"\n",
        "feature_extractor = hub.KerasLayer(URL,input_shape=(IMG_SIZE,IMG_SIZE,3),trainable=False)"
      ],
      "execution_count": 0,
      "outputs": []
    },
    {
      "cell_type": "code",
      "metadata": {
        "id": "iy4hR1W-Hdbm",
        "colab_type": "code",
        "colab": {
          "base_uri": "https://localhost:8080/",
          "height": 51
        },
        "outputId": "1673cdbc-cbf5-4904-9367-a4d48f7e5437"
      },
      "source": [
        "# Creating and Training the model\n",
        "model = tf.keras.Sequential([\n",
        "    feature_extractor,\n",
        "    tf.keras.layers.Dense(2,activation='softmax')\n",
        "])\n",
        "\n",
        "model.compile(loss = tf.losses.SparseCategoricalCrossentropy(),\n",
        "          optimizer='adam',\n",
        "          metrics=['accuracy'])\n",
        "\n",
        "epochs = 3\n",
        "history = model.fit(train_batches,\n",
        "                   validation_data=validation_batches,\n",
        "                   epochs=epochs)"
      ],
      "execution_count": 0,
      "outputs": [
        {
          "output_type": "stream",
          "text": [
            "Epoch 1/3\n",
            "    582/Unknown - 60s 103ms/step - loss: 0.0564 - accuracy: 0.9804"
          ],
          "name": "stdout"
        }
      ]
    },
    {
      "cell_type": "code",
      "metadata": {
        "id": "n2jzGzlNHdbs",
        "colab_type": "code",
        "colab": {}
      },
      "source": [
        "# Testing the model performance\n",
        "class_names = numpy.array(info.features['label'].names)\n",
        "image_batch,label_batch = next(iter(train_batches.take(1)))\n",
        "image_batch = image_batch.numpy()\n",
        "label_batch = label_batch.numpy()\n",
        "predicted_batch = tf.squeeze(model.predict(image_batch)).numpy()\n",
        "predicted_ids = np.argmax(predicted_batch,axis=-1)\n",
        "predicted_class_names = class_names[predicted_ids]\n",
        "\n",
        "plt.figure(figsize=(10,8))\n",
        "for n in range(30):\n",
        "  plt.subplot(6,5,n+1)\n",
        "  plt.subplot_adjust(hspace=0.5)\n",
        "  plt.imshow(image_batch[n])\n",
        "  color = \"blue\" if predicted_ids[n] == label_batch[n] else \"red\"\n",
        "  plt.title(predicted_class_names[n].title(),color = color)\n",
        "_ = plt.suptitle(\"Model Predictions\")"
      ],
      "execution_count": 0,
      "outputs": []
    },
    {
      "cell_type": "code",
      "metadata": {
        "id": "g4ZhJS5kHdby",
        "colab_type": "code",
        "colab": {}
      },
      "source": [
        "# Saving the model in HDF5 format(.h5 extension)\n",
        "t = time.time()\n",
        "export_path_keras = \"./{}.h5\".format(int(t))\n",
        "model.save(export_path_keras)"
      ],
      "execution_count": 0,
      "outputs": []
    },
    {
      "cell_type": "code",
      "metadata": {
        "id": "ty6E29o0Hdb4",
        "colab_type": "code",
        "colab": {}
      },
      "source": [
        "\n",
        "reloaded = tf.keras.models.load_model(export_path_keras,\n",
        "                                      custom_objects={'KerasLayer':hub.KerasLayer})\n",
        "result_batch = model.predict(image_batch)\n",
        "reloaded_batch = reloaded.predict(image_batch)"
      ],
      "execution_count": 0,
      "outputs": []
    },
    {
      "cell_type": "code",
      "metadata": {
        "id": "Wizid0_oHdcA",
        "colab_type": "code",
        "colab": {}
      },
      "source": [
        "history = reloaded.fit(train_batches,\n",
        "                      validation_data=validation_batches,\n",
        "                      epochs=epochs)\n"
      ],
      "execution_count": 0,
      "outputs": []
    }
  ]
}