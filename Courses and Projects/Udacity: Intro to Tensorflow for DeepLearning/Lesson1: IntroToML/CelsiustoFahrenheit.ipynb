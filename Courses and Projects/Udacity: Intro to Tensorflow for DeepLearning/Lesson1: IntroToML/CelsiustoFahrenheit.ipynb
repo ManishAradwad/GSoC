{
 "cells": [
  {
   "cell_type": "code",
   "execution_count": 20,
   "metadata": {},
   "outputs": [],
   "source": [
    "\"\"\" A Simple Linear Regression model is created to predict the corresponding Celsius values in Fahrenheit.\n",
    "After that a neural network with additional networks is also created. \"\"\"\n",
    "\n",
    "# Imports\n",
    "import tensorflow as tf\n",
    "import numpy as np\n",
    "import logging\n",
    "import matplotlib.pyplot as plt\n",
    "tf.get_logger().setLevel(logging.ERROR)"
   ]
  },
  {
   "cell_type": "code",
   "execution_count": 21,
   "metadata": {},
   "outputs": [],
   "source": [
    "# Training data\n",
    "celsius_q = np.array([-40, -10,  0,  8, 15, 22,  38], dtype = float)\n",
    "fahrenheit_a = np.array([-40,  14, 32, 46, 59, 72, 100],dtype = float)"
   ]
  },
  {
   "cell_type": "code",
   "execution_count": 22,
   "metadata": {},
   "outputs": [],
   "source": [
    "# Lineare Regression Model is created which consists of a single Neural Dense Layer with single unit or neuron\n",
    "# Input Shape has to be specified explicitly and should be equal to that of training data\n",
    "model = tf.keras.Sequential([\n",
    "    tf.keras.layers.Dense(input_shape = [1],units = 1)\n",
    "])\n",
    "\n",
    "# Model has to be compiled before training. Loss function and Optimizer are specified during compilation\n",
    "model.compile(\n",
    "    loss = 'mean_squared_error',\n",
    "    optimizer = tf.keras.optimizers.Adam(lr=0.1)\n",
    ")"
   ]
  },
  {
   "cell_type": "code",
   "execution_count": 23,
   "metadata": {},
   "outputs": [],
   "source": [
    "# Training the model. If verbose=True, some additional info is shown\n",
    "history = model.fit(celsius_q,fahrenheit_a,epochs = 500,verbose = False)"
   ]
  },
  {
   "cell_type": "code",
   "execution_count": 24,
   "metadata": {},
   "outputs": [
    {
     "data": {
      "text/plain": [
       "[<matplotlib.lines.Line2D at 0x7f1112ea6b38>]"
      ]
     },
     "execution_count": 24,
     "metadata": {},
     "output_type": "execute_result"
    },
    {
     "data": {
      "image/png": "[encoded data removed]",
      "text/plain": [
       "<Figure size 432x288 with 1 Axes>"
      ]
     },
     "metadata": {
      "needs_background": "light"
     },
     "output_type": "display_data"
    }
   ],
   "source": [
    "# Plotting the performance of model with increasing number of epochs\n",
    "plt.xlabel('Epochs')\n",
    "plt.ylabel('Loss')\n",
    "plt.plot(history.history['loss'])"
   ]
  },
  {
   "cell_type": "code",
   "execution_count": 27,
   "metadata": {},
   "outputs": [
    {
     "name": "stdout",
     "output_type": "stream",
     "text": [
      "[[211.30113]]\n",
      "[array([[1.8255012]], dtype=float32), array([28.751001], dtype=float32)]\n"
     ]
    }
   ],
   "source": [
    "# Predicting for some value of celsius. Right value is 212\n",
    "# Weights are similar to the coefficients in equation for conversion\n",
    "print(model.predict([100.0]))\n",
    "print(model.get_weights())"
   ]
  },
  {
   "cell_type": "code",
   "execution_count": 30,
   "metadata": {},
   "outputs": [
    {
     "name": "stdout",
     "output_type": "stream",
     "text": [
      "[[211.74742]]\n",
      "[array([[ 0.12707281,  0.73038787, -0.36609006, -0.1681031 ]],\n",
      "      dtype=float32), array([-1.954407 ,  3.6006536, -3.460904 ,  3.1256824], dtype=float32), array([[ 0.8823525 ,  0.33162504, -0.4634675 ,  0.86476576],\n",
      "       [-1.3084699 ,  1.0201879 , -0.23758587, -0.10115051],\n",
      "       [ 0.85723716, -0.59760046, -0.63494146, -0.19874285],\n",
      "       [-1.2255926 ,  0.7851686 , -1.428029  ,  0.01860848]],\n",
      "      dtype=float32), array([-3.568556 ,  3.6268578, -1.2975771,  2.0668352], dtype=float32), array([[-1.227651 ],\n",
      "       [ 0.6914821],\n",
      "       [-0.0055367],\n",
      "       [ 0.2549633]], dtype=float32), array([3.3857114], dtype=float32)]\n"
     ]
    }
   ],
   "source": [
    "# Making a little bit more complex model with some additional hidden layers\n",
    "l0 = tf.keras.layers.Dense(units=4,input_shape=[1])\n",
    "l1 = tf.keras.layers.Dense(units=4)\n",
    "l2 = tf.keras.layers.Dense(units=1)\n",
    "model = tf.keras.Sequential([l0,l1,l2])\n",
    "model.compile(loss='mean_squared_error',optimizer=tf.keras.optimizers.Adam(0.1))\n",
    "history = model.fit(celsius_q,fahrenheit_a,epochs=500,verbose=False)\n",
    "print(model.predict([100.0]))\n",
    "print(model.get_weights())\n",
    "# We can see the weights and biases are much more complex for the simple equation"
   ]
  }
 ],
 "metadata": {
  "kernelspec": {
   "display_name": "Python 3",
   "language": "python",
   "name": "python3"
  },
  "language_info": {
   "codemirror_mode": {
    "name": "ipython",
    "version": 3
   },
   "file_extension": ".py",
   "mimetype": "text/x-python",
   "name": "python",
   "nbconvert_exporter": "python",
   "pygments_lexer": "ipython3",
   "version": "3.7.3"
  }
 },
 "nbformat": 4,
 "nbformat_minor": 2
}
