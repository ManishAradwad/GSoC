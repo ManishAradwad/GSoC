{
 "cells": [
  {
   "cell_type": "code",
   "execution_count": null,
   "metadata": {},
   "outputs": [],
   "source": [
    "\"\"\" TFLite Interpreter allows to simulate the working of TFLite model on PC itself without deploying it to\n",
    "mobile devices or embedded devices \"\"\"\n",
    "\n",
    "# Load TFLite model using TFLite Interpreter\n",
    "interpreter = tf.lite.Interpreter(model_content=tflite_model)\n",
    "# Allocating tensors to these model\n",
    "tflite.allocate_tensors()\n",
    "\n",
    "# Getting Input and Output Data\n",
    "input_details = interpreter.get_input_details()\n",
    "output_details = interpreter.get_output_details()\n",
    "\n",
    "# Passing data to interpret on\n",
    "interpreter.set_tensors(input_details[0]['index'], input_data)\n",
    "interpreter.invoke()\n",
    "tflite_results = interpreter.get_tensors(output_details[0]['index'])"
   ]
  }
 ],
 "metadata": {
  "kernelspec": {
   "display_name": "Python 3",
   "language": "python",
   "name": "python3"
  },
  "language_info": {
   "codemirror_mode": {
    "name": "ipython",
    "version": 3
   },
   "file_extension": ".py",
   "mimetype": "text/x-python",
   "name": "python",
   "nbconvert_exporter": "python",
   "pygments_lexer": "ipython3",
   "version": "3.7.3"
  }
 },
 "nbformat": 4,
 "nbformat_minor": 2
}
